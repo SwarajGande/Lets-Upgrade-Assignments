{
 "cells": [
  {
   "cell_type": "markdown",
   "metadata": {},
   "source": [
    "Create a dataframe with 10 rows on random numbers and 4 columns, (columns labelled as a,b,c,d) and plot a bar chart."
   ]
  },
  {
   "cell_type": "code",
   "execution_count": 1,
   "metadata": {},
   "outputs": [],
   "source": [
    "import numpy as np\n",
    "import matplotlib.pyplot as plt\n",
    "import pandas as pd"
   ]
  },
  {
   "cell_type": "code",
   "execution_count": 2,
   "metadata": {},
   "outputs": [
    {
     "data": {
      "text/html": [
       "<div>\n",
       "<style scoped>\n",
       "    .dataframe tbody tr th:only-of-type {\n",
       "        vertical-align: middle;\n",
       "    }\n",
       "\n",
       "    .dataframe tbody tr th {\n",
       "        vertical-align: top;\n",
       "    }\n",
       "\n",
       "    .dataframe thead th {\n",
       "        text-align: right;\n",
       "    }\n",
       "</style>\n",
       "<table border=\"1\" class=\"dataframe\">\n",
       "  <thead>\n",
       "    <tr style=\"text-align: right;\">\n",
       "      <th></th>\n",
       "      <th>a</th>\n",
       "      <th>b</th>\n",
       "      <th>c</th>\n",
       "      <th>d</th>\n",
       "    </tr>\n",
       "  </thead>\n",
       "  <tbody>\n",
       "    <tr>\n",
       "      <th>0</th>\n",
       "      <td>0.775232</td>\n",
       "      <td>0.499036</td>\n",
       "      <td>0.205237</td>\n",
       "      <td>0.796922</td>\n",
       "    </tr>\n",
       "    <tr>\n",
       "      <th>1</th>\n",
       "      <td>0.240812</td>\n",
       "      <td>0.840937</td>\n",
       "      <td>0.683400</td>\n",
       "      <td>0.932044</td>\n",
       "    </tr>\n",
       "    <tr>\n",
       "      <th>2</th>\n",
       "      <td>0.665659</td>\n",
       "      <td>0.086621</td>\n",
       "      <td>0.869570</td>\n",
       "      <td>0.424874</td>\n",
       "    </tr>\n",
       "    <tr>\n",
       "      <th>3</th>\n",
       "      <td>0.235645</td>\n",
       "      <td>0.421651</td>\n",
       "      <td>0.057942</td>\n",
       "      <td>0.963045</td>\n",
       "    </tr>\n",
       "    <tr>\n",
       "      <th>4</th>\n",
       "      <td>0.929406</td>\n",
       "      <td>0.154598</td>\n",
       "      <td>0.333426</td>\n",
       "      <td>0.883573</td>\n",
       "    </tr>\n",
       "    <tr>\n",
       "      <th>5</th>\n",
       "      <td>0.384389</td>\n",
       "      <td>0.368847</td>\n",
       "      <td>0.514603</td>\n",
       "      <td>0.787143</td>\n",
       "    </tr>\n",
       "    <tr>\n",
       "      <th>6</th>\n",
       "      <td>0.925928</td>\n",
       "      <td>0.863130</td>\n",
       "      <td>0.395238</td>\n",
       "      <td>0.553034</td>\n",
       "    </tr>\n",
       "    <tr>\n",
       "      <th>7</th>\n",
       "      <td>0.030095</td>\n",
       "      <td>0.695121</td>\n",
       "      <td>0.712783</td>\n",
       "      <td>0.438103</td>\n",
       "    </tr>\n",
       "    <tr>\n",
       "      <th>8</th>\n",
       "      <td>0.725354</td>\n",
       "      <td>0.406008</td>\n",
       "      <td>0.643363</td>\n",
       "      <td>0.450599</td>\n",
       "    </tr>\n",
       "    <tr>\n",
       "      <th>9</th>\n",
       "      <td>0.912458</td>\n",
       "      <td>0.356263</td>\n",
       "      <td>0.414536</td>\n",
       "      <td>0.146976</td>\n",
       "    </tr>\n",
       "  </tbody>\n",
       "</table>\n",
       "</div>"
      ],
      "text/plain": [
       "          a         b         c         d\n",
       "0  0.775232  0.499036  0.205237  0.796922\n",
       "1  0.240812  0.840937  0.683400  0.932044\n",
       "2  0.665659  0.086621  0.869570  0.424874\n",
       "3  0.235645  0.421651  0.057942  0.963045\n",
       "4  0.929406  0.154598  0.333426  0.883573\n",
       "5  0.384389  0.368847  0.514603  0.787143\n",
       "6  0.925928  0.863130  0.395238  0.553034\n",
       "7  0.030095  0.695121  0.712783  0.438103\n",
       "8  0.725354  0.406008  0.643363  0.450599\n",
       "9  0.912458  0.356263  0.414536  0.146976"
      ]
     },
     "execution_count": 2,
     "metadata": {},
     "output_type": "execute_result"
    }
   ],
   "source": [
    "random_matrix = np.random.rand(10,4)\n",
    "df = pd.DataFrame(random_matrix,columns =[\"a\",\"b\",\"c\",\"d\"])\n",
    "df"
   ]
  },
  {
   "cell_type": "code",
   "execution_count": 3,
   "metadata": {},
   "outputs": [
    {
     "data": {
      "text/plain": [
       "<Figure size 864x720 with 0 Axes>"
      ]
     },
     "metadata": {},
     "output_type": "display_data"
    },
    {
     "data": {
      "image/png": "[encoded data removed]",
      "text/plain": [
       "<Figure size 432x288 with 1 Axes>"
      ]
     },
     "metadata": {
      "needs_background": "light"
     },
     "output_type": "display_data"
    }
   ],
   "source": [
    "plt.figure(figsize =(12,10))\n",
    "df.plot(kind = \"bar\")\n",
    "plt.show()"
   ]
  }
 ],
 "metadata": {
  "kernelspec": {
   "display_name": "Python 3",
   "language": "python",
   "name": "python3"
  },
  "language_info": {
   "codemirror_mode": {
    "name": "ipython",
    "version": 3
   },
   "file_extension": ".py",
   "mimetype": "text/x-python",
   "name": "python",
   "nbconvert_exporter": "python",
   "pygments_lexer": "ipython3",
   "version": "3.8.5"
  }
 },
 "nbformat": 4,
 "nbformat_minor": 4
}
